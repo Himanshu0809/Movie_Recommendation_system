{
 "cells": [
  {
   "cell_type": "code",
   "execution_count": 1,
   "metadata": {},
   "outputs": [],
   "source": [
    "import pandas as pd\n",
    "import pickle as pkl\n",
    "from sklearn.metrics.pairwise import cosine_similarity\n",
    "import bert\n",
    "import numpy as np\n",
    "from bert.extract_features import *"
   ]
  },
  {
   "cell_type": "code",
   "execution_count": 2,
   "metadata": {},
   "outputs": [
    {
     "name": "stderr",
     "output_type": "stream",
     "text": [
      "C:\\Users\\Dell\\Anaconda3\\lib\\site-packages\\IPython\\core\\interactiveshell.py:3058: DtypeWarning: Columns (10) have mixed types. Specify dtype option on import or set low_memory=False.\n",
      "  interactivity=interactivity, compiler=compiler, result=result)\n"
     ]
    }
   ],
   "source": [
    "movie_data=pd.read_csv(\"./movies_metadata.csv\")"
   ]
  },
  {
   "cell_type": "code",
   "execution_count": 3,
   "metadata": {},
   "outputs": [],
   "source": [
    "with open(\"./emb.pickle\",\"rb\") as file:  #loading overview embeddings\n",
    "    emb=pkl.load(file)"
   ]
  },
  {
   "cell_type": "code",
   "execution_count": 4,
   "metadata": {},
   "outputs": [
    {
     "name": "stdout",
     "output_type": "stream",
     "text": [
      "(45466, 3)\n",
      "(44512, 3)\n"
     ]
    }
   ],
   "source": [
    "def make_dataset(data):  # extracting data_info\n",
    "    data['tagline']=data[\"tagline\"].fillna(\" \")\n",
    "    data=data.loc[:,[\"original_title\",\"genres\",\"overview\"]]\n",
    "    print(data.shape)\n",
    "    data=data.dropna()\n",
    "    print(data.shape)\n",
    "    return data.loc[:,[\"original_title\",\"genres\",\"overview\"]]\n",
    "\n",
    "data_info=make_dataset(movie_data)"
   ]
  },
  {
   "cell_type": "code",
   "execution_count": 5,
   "metadata": {},
   "outputs": [],
   "source": [
    "titles=data_info[\"original_title\"].apply(lambda x:\"\".join(x.lower().split()))\n",
    "def get_similar_titles(title):  #return similar titles\n",
    "    index,j=[],0\n",
    "    title=\"\".join(title.lower().split())\n",
    "    for i in titles:\n",
    "        if title in i:\n",
    "            index.append(j)\n",
    "        j+=1\n",
    "    return data_info.iloc[index][\"original_title\"],index"
   ]
  },
  {
   "cell_type": "code",
   "execution_count": null,
   "metadata": {},
   "outputs": [],
   "source": [
    "#to extract embeddings from overview\n",
    "\n",
    "tokenizer = bert.tokenization.FullTokenizer(\n",
    "  vocab_file=\"./tmp/wwm_uncased_L-24_H-1024_A-16/vocab.txt\", do_lower_case=True)\n",
    "\n",
    "layer_indexes = [int(x) for x in [-1,-2,-3,-4]]              #last 4 hidden layers\n",
    "\n",
    "bert_config = bert.modeling.BertConfig.from_json_file(\"./tmp/wwm_uncased_L-24_H-1024_A-16/bert_config.json\")#model configs\n",
    "\n",
    "tokenizer = bert.tokenization.FullTokenizer(\n",
    "  vocab_file=\"./tmp/wwm_uncased_L-24_H-1024_A-16/vocab.txt\", do_lower_case=True)\n",
    "\n",
    "is_per_host = tf.contrib.tpu.InputPipelineConfig.PER_HOST_V2    #\n",
    "run_config = tf.contrib.tpu.RunConfig(                          #\n",
    "  master=None,                                                  #    Setting up configurations\n",
    "  tpu_config=tf.contrib.tpu.TPUConfig(                          #  \n",
    "      num_shards=None,                                          #\n",
    "      per_host_input_for_training=is_per_host))                 #   \n",
    "\n",
    "model_fn = model_fn_builder(                                        #\n",
    "  bert_config=bert_config,                                          #\n",
    "  init_checkpoint=\"./tmp/wwm_uncased_L-24_H-1024_A-16/bert_model.ckpt\",  #  funtion to build pretrained model\n",
    "  layer_indexes=layer_indexes,                                      #\n",
    "  use_tpu=False,                                                    # \n",
    "  use_one_hot_embeddings=False)                                     #\n",
    "\n",
    "estimator = tf.contrib.tpu.TPUEstimator(                            #\n",
    "  use_tpu=False,                                                    #\n",
    "  model_fn=model_fn,                                                # predictor to extract features \n",
    "  config=run_config,                                                #\n",
    "  predict_batch_size=12)"
   ]
  },
  {
   "cell_type": "code",
   "execution_count": 6,
   "metadata": {},
   "outputs": [
    {
     "name": "stderr",
     "output_type": "stream",
     "text": [
      "WARNING: Logging before flag parsing goes to stderr.\n",
      "W0903 23:32:44.480884 14688 deprecation_wrapper.py:119] From C:\\Users\\Dell\\Anaconda3\\lib\\site-packages\\bert\\tokenization.py:125: The name tf.gfile.GFile is deprecated. Please use tf.io.gfile.GFile instead.\n",
      "\n",
      "W0903 23:32:46.163624 14688 lazy_loader.py:50] \n",
      "The TensorFlow contrib module will not be included in TensorFlow 2.0.\n",
      "For more information, please see:\n",
      "  * https://github.com/tensorflow/community/blob/master/rfcs/20180907-contrib-sunset.md\n",
      "  * https://github.com/tensorflow/addons\n",
      "  * https://github.com/tensorflow/io (for I/O related ops)\n",
      "If you depend on functionality not listed there, please file an issue.\n",
      "\n",
      "W0903 23:32:46.165508 14688 estimator.py:1984] Estimator's model_fn (<function model_fn_builder.<locals>.model_fn at 0x000001F2D62B5488>) includes params argument, but params are not passed to Estimator.\n",
      "W0903 23:32:46.169753 14688 estimator.py:1811] Using temporary folder as model directory: C:\\Users\\Dell\\AppData\\Local\\Temp\\tmp0t20uylw\n",
      "W0903 23:32:46.172525 14688 tpu_context.py:211] eval_on_tpu ignored because use_tpu is False.\n"
     ]
    }
   ],
   "source": [
    "def extract_feat(text): #extract embeddings\n",
    "    \n",
    "    text_=[InputExample(unique_id=0, # Globally unique ID for bookkeeping, unused in this example\n",
    "                                                                   text_a = text, \n",
    "                                                                   text_b = None)]\n",
    "    train_data=convert_examples_to_features(text_\n",
    "                                        ,256,tokenizer,) #converting to features expected by the model\n",
    "    input_fn = input_fn_builder(features=train_data, seq_length=256)   #prepares input\n",
    "    \n",
    "    for result in estimator.predict(input_fn, yield_single_examples=True):\n",
    "        l1=np.mean(axis=0,a=result['layer_output_0'])     #\n",
    "        l2=np.mean(axis=0,a=result['layer_output_1'])     # Last 4 hidden layers features\n",
    "        l3=np.mean(axis=0,a=result['layer_output_2'])     # \n",
    "        l4=np.mean(axis=0,a=result['layer_output_3'])     #\n",
    "\n",
    "        emb=np.mean(axis=0,a=[l1,l2,l3,l4])               # taking mean to get sentence embeddings\n",
    "        return emb                                                  # saving with movie titles\n",
    "    return -1      "
   ]
  },
  {
   "cell_type": "code",
   "execution_count": 7,
   "metadata": {},
   "outputs": [],
   "source": [
    "def get_nearest_movie(title,n=10):     #return 10 similar movies based on cosine similarity\n",
    "    rec,rec_movies=[],[]\n",
    "    rec_movies.append((title,data_info[data_info[\"original_title\"]==title][\"overview\"]))\n",
    "    vec=emb[title]\n",
    "    for i in emb.keys():\n",
    "        if i == title:\n",
    "            continue\n",
    "        x=cosine_similarity(vec.reshape(1,-1),emb[i].reshape(1,-1))\n",
    "        rec.append((x,i))\n",
    "    for j,i in sorted(rec,key=lambda x : x[0],reverse=True)[:n]:\n",
    "        rec_movies.append((i,data_info[data_info[\"original_title\"]==i][\"overview\"]))\n",
    "    return rec_movies "
   ]
  },
  {
   "cell_type": "code",
   "execution_count": 8,
   "metadata": {},
   "outputs": [],
   "source": [
    "def get_nearest_overview(text,n=10):  #return 10 similar movies based on given overview\n",
    "    vec=extract_feat(text)\n",
    "    rec_movies,rec=[],[]\n",
    "    for i in emb.keys():\n",
    "        x=cosine_similarity(vec.reshape(1,-1),emb[i].reshape(1,-1))\n",
    "        rec.append((x,i))\n",
    "    for j,i in sorted(rec,key=lambda x : x[0],reverse=True)[:n]:\n",
    "        rec_movies.append((i,data_info[data_info[\"original_title\"]==i][\"overview\"],j))\n",
    "    return rec_movies "
   ]
  },
  {
   "cell_type": "code",
   "execution_count": 14,
   "metadata": {},
   "outputs": [
    {
     "name": "stdout",
     "output_type": "stream",
     "text": [
      "The Batman Superman Movie: World's Finest : Joker goes to Metropolis with an offer and plan to kill Superman for Lex Luthor while Batman pursues the clown to Superman's turf\n",
      "\n",
      "The Mad Scientist : The Man of Steel fights a mad scientist who is destroying Metropolis with an energy cannon.\n",
      "\n",
      "DC Showcase: Catwoman : Catwoman attempts to track down a mysterious cargo shipment that is linked to a Gotham City crime boss called Rough Cut.\n",
      "\n",
      "Short Circuit 2 : Robot Johnny Five comes to the city and gets manipulated by criminals who want him for their own purposes.\n",
      "\n",
      "Coogan's Bluff : Coogan (Clint Eastwood) an Arizona deputy sheriff goes to New York to pick up a prisoner. While escorting the prisoner to the airport he escapes and Coogan heads into the City to recapture him.\n",
      "\n",
      "Squadra antimafia : Undercover cop Nico Giraldi travels to New York and Las Vegas to find a crooked cop who gave his squadron back in Italy a bad name.\n",
      "\n",
      "Company Business : An aging agent is called back by \"the Company\" to run a hostage trade of a Soviet spy for an American agent.\n",
      "\n",
      "Blackhat : A man is released from prison to help American and Chinese authorities pursue a mysterious cyber criminal. The dangerous search leads them from Chicago to Hong Kong.\n",
      "\n",
      "Ghost Recon: Alpha : Ghost Recon: Alpha sees a team led by Ghost Leader infiltrate a trade at a Russian depot between a general and a mysterious other figure.\n",
      "\n",
      "Batman Unlimited: Monster Mayhem : The Joker is aided in his Halloween quest to render modern technology useless and take over Gotham City by Solomon Grundy, Silver Banshee, Clayface and Scarecrow.\n",
      "\n",
      "French Connection II : \"Popeye\" Doyle travels to Marsailles to find Alain Charnier, the drug smuggler that eluded him in New York.\n",
      "\n"
     ]
    }
   ],
   "source": [
    "ans=get_nearest_overview(\"Terrorist organization attack the world\") #get similar movies based on the given overview\n",
    "for i in ans:\n",
    "    print(i[0],\":\",i[1].iloc[0])\n",
    "    print()"
   ]
  },
  {
   "cell_type": "code",
   "execution_count": 10,
   "metadata": {},
   "outputs": [
    {
     "data": {
      "text/plain": [
       "9169    The Batman Superman Movie: World's Finest\n",
       "Name: original_title, dtype: object"
      ]
     },
     "execution_count": 10,
     "metadata": {},
     "output_type": "execute_result"
    }
   ],
   "source": [
    "names,index=get_similar_titles(\"Batman  Superman\")  #get names of the movies containing the given title\n",
    "names"
   ]
  },
  {
   "cell_type": "code",
   "execution_count": 15,
   "metadata": {},
   "outputs": [
    {
     "name": "stdout",
     "output_type": "stream",
     "text": [
      "The Batman Superman Movie: World's Finest : Joker goes to Metropolis with an offer and plan to kill Superman for Lex Luthor while Batman pursues the clown to Superman's turf\n",
      "\n",
      "The Mad Scientist : The Man of Steel fights a mad scientist who is destroying Metropolis with an energy cannon.\n",
      "\n",
      "DC Showcase: Catwoman : Catwoman attempts to track down a mysterious cargo shipment that is linked to a Gotham City crime boss called Rough Cut.\n",
      "\n",
      "Short Circuit 2 : Robot Johnny Five comes to the city and gets manipulated by criminals who want him for their own purposes.\n",
      "\n",
      "Coogan's Bluff : Coogan (Clint Eastwood) an Arizona deputy sheriff goes to New York to pick up a prisoner. While escorting the prisoner to the airport he escapes and Coogan heads into the City to recapture him.\n",
      "\n",
      "Squadra antimafia : Undercover cop Nico Giraldi travels to New York and Las Vegas to find a crooked cop who gave his squadron back in Italy a bad name.\n",
      "\n",
      "Company Business : An aging agent is called back by \"the Company\" to run a hostage trade of a Soviet spy for an American agent.\n",
      "\n",
      "Blackhat : A man is released from prison to help American and Chinese authorities pursue a mysterious cyber criminal. The dangerous search leads them from Chicago to Hong Kong.\n",
      "\n",
      "Ghost Recon: Alpha : Ghost Recon: Alpha sees a team led by Ghost Leader infiltrate a trade at a Russian depot between a general and a mysterious other figure.\n",
      "\n",
      "Batman Unlimited: Monster Mayhem : The Joker is aided in his Halloween quest to render modern technology useless and take over Gotham City by Solomon Grundy, Silver Banshee, Clayface and Scarecrow.\n",
      "\n",
      "French Connection II : \"Popeye\" Doyle travels to Marsailles to find Alain Charnier, the drug smuggler that eluded him in New York.\n",
      "\n"
     ]
    }
   ],
   "source": [
    "ans=get_nearest_movie(\"The Batman Superman Movie: World's Finest\") #get similar movies to the given one\n",
    "for i in ans:\n",
    "    print(i[0],\":\",i[1].iloc[0])\n",
    "    print()"
   ]
  },
  {
   "cell_type": "code",
   "execution_count": null,
   "metadata": {},
   "outputs": [],
   "source": []
  }
 ],
 "metadata": {
  "kernelspec": {
   "display_name": "Python 3",
   "language": "python",
   "name": "python3"
  },
  "language_info": {
   "codemirror_mode": {
    "name": "ipython",
    "version": 3
   },
   "file_extension": ".py",
   "mimetype": "text/x-python",
   "name": "python",
   "nbconvert_exporter": "python",
   "pygments_lexer": "ipython3",
   "version": "3.6.8"
  }
 },
 "nbformat": 4,
 "nbformat_minor": 2
}
